{
 "cells": [
  {
   "cell_type": "markdown",
   "metadata": {},
   "source": [
    "## Document Distance"
   ]
  },
  {
   "cell_type": "code",
   "execution_count": 1,
   "metadata": {},
   "outputs": [],
   "source": [
    "# Imports \n",
    "import os\n",
    "import xml.etree.ElementTree as et\n",
    "import pandas as pd\n",
    "from itertools import chain\n",
    "\n",
    "import numpy as np\n",
    "from sklearn.manifold import TSNE\n",
    "from sklearn.feature_extraction.text import TfidfVectorizer\n",
    "from sklearn.decomposition import NMF\n",
    "from sklearn.decomposition import TruncatedSVD as LSA\n",
    "import random\n",
    "random.seed(13)\n",
    "\n",
    "\n",
    "#visualisation stuff\n",
    "import seaborn as sns\n",
    "import matplotlib.pyplot as plt\n",
    "import matplotlib.patches as mpatches\n",
    "import matplotlib\n",
    "%matplotlib inline\n",
    "\n",
    "\n",
    "# import mpld3\n",
    "# mpld3.enable_notebook()\n",
    "\n",
    "import spacy\n",
    "from collections import Counter\n",
    "from spacy.tokenizer import Tokenizer\n",
    "nlp = spacy.load('en')\n",
    "tokenizer = Tokenizer(nlp.vocab)\n",
    "import networkx as nx\n",
    "\n",
    "import gensim\n",
    "import gensim.downloader as api\n",
    "from gensim.parsing.preprocessing import strip_short"
   ]
  },
  {
   "cell_type": "code",
   "execution_count": null,
   "metadata": {},
   "outputs": [],
   "source": [
    "\n"
   ]
  },
  {
   "cell_type": "code",
   "execution_count": 2,
   "metadata": {},
   "outputs": [],
   "source": [
    "# Load data \n",
    "PATH = \"../xml/\"\n",
    "extension = \".xml\"\n",
    "\n",
    "def load_order(PATH, extension):\n",
    "    \"\"\"\n",
    "    Custom function for loading and sorting the xml files from the TOTA dataset.\n",
    "    Returns an array of filenames sorted by the number in the file name.\n",
    "    \"\"\"\n",
    "    files = []\n",
    "    for filename in os.listdir(PATH):\n",
    "        if filename == \".ipynb_checkpoints\":\n",
    "            continue\n",
    "        files.append(filename.split(\".\")[0]) # remove .xml\n",
    "    files.sort(key=lambda x:int(x.split(\"_\")[1])) # sort files based on file number \n",
    "\n",
    "    files = [file + extension for file in files]\n",
    "#     print(files)\n",
    "    return files\n",
    "\n",
    "files = load_order(PATH, extension)"
   ]
  },
  {
   "cell_type": "code",
   "execution_count": 33,
   "metadata": {},
   "outputs": [],
   "source": [
    "def xml2list(file):\n",
    "    \"\"\"\n",
    "    Custom function for parsing and outputing the data into arrays.\n",
    "    Returns two array's the extracted column names and content for each column.\n",
    "    \"\"\"\n",
    "    parsed_xml = et.parse(file)\n",
    "\n",
    "    root = parsed_xml.getroot()\n",
    "\n",
    "    meta_column_names = []\n",
    "    meta_column_content = []\n",
    "\n",
    "    for item in root[0]:\n",
    "        grandchild = item.findall(\".//\")\n",
    "        if grandchild:\n",
    "            grandstore = []\n",
    "            #print(item.tag)\n",
    "            meta_column_names.append(item.tag)\n",
    "            for x in grandchild:\n",
    "                grandstore.append(int(x.attrib.get('n')))\n",
    "                #print(x.tag +\":\", x.attrib)\n",
    "            meta_column_content.append(grandstore)\n",
    "\n",
    "        else:\n",
    "            #print(item.tag +\":\", item.text)\n",
    "            meta_column_names.append(item.tag)\n",
    "            meta_column_content.append(item.text)\n",
    "            \n",
    "    return meta_column_names, meta_column_content\n",
    "    \n",
    "    \n",
    "def xml2list_text(file):\n",
    "    \"\"\"\n",
    "    Custom function for parsing and outputing the data into arrays.\n",
    "    Returns two array's the extracted column names and content for each column.\n",
    "    \"\"\"\n",
    "\n",
    "    parsed_xml = et.parse(file)\n",
    "    root = parsed_xml.getroot()\n",
    "    chapters = []\n",
    "    article_store = []\n",
    "    \n",
    "    treaty_text = ''\n",
    "    \n",
    "    for item in root[1]:\n",
    "        chapter_name = item.attrib.get('name')\n",
    "#         print(\"chapter: \" + item.attrib.get('name'))\n",
    "        chapters.append(chapter_name)\n",
    "        if chapter_name == None:\n",
    "            chapter_name = ''\n",
    "        treaty_text += chapter_name + \" \"\n",
    "        \n",
    "        articles = item.findall(\"article\")\n",
    "        for article in articles:\n",
    "#             print(article.attrib.get('name'))\n",
    "            art_no = article.attrib.get('number')\n",
    "            art_text =  article.text\n",
    "            article_store.append(art_no)\n",
    "            if art_no == None:\n",
    "                continue\n",
    "#             print(art_no)\n",
    "            treaty_text += art_no + \" \"\n",
    "            treaty_text += art_text + \" \"\n",
    "        \n",
    "            \n",
    "    return len(chapters), len(article_store), treaty_text"
   ]
  },
  {
   "cell_type": "code",
   "execution_count": 35,
   "metadata": {},
   "outputs": [],
   "source": [
    "textdf = pd.DataFrame()\n",
    "\n",
    "chapter_numbers = []\n",
    "article_numbers = []\n",
    "treaty_text = []\n",
    "\n",
    "for i in range(0, len(files)):\n",
    "    chapter_no, article_no, text = xml2list_text(PATH + files[i])\n",
    "    chapter_numbers.append(chapter_no)\n",
    "    article_numbers.append(article_no)\n",
    "    tokens = tokenizer(text)\n",
    "    treaty_text.append(tokens.text.lower())\n",
    "\n",
    "textdf[\"chapter_number\"] = chapter_numbers\n",
    "textdf[\"article_number\"] = article_numbers\n",
    "textdf[\"treaty_text\"] = treaty_text"
   ]
  },
  {
   "cell_type": "code",
   "execution_count": 36,
   "metadata": {},
   "outputs": [],
   "source": [
    "with open(\"alltext.txt\") as f:\n",
    "    wordcount = Counter(f.read().split())\n",
    "\n",
    "stop_words_law = []\n",
    "for item, frequency in wordcount.most_common(2000):\n",
    "    stop_words_law.append(item)\n",
    "stop_words_law.append('\\n')"
   ]
  },
  {
   "cell_type": "code",
   "execution_count": 37,
   "metadata": {},
   "outputs": [],
   "source": [
    "dfcols, null = xml2list(PATH + files[3])\n",
    "totadf = pd.DataFrame(columns=dfcols)\n",
    "\n",
    "for i in range(0, len(files)):\n",
    "    dfcolstmp, datatmp = xml2list(PATH + files[i])\n",
    "    tmp_df = pd.DataFrame([datatmp], columns=dfcolstmp)\n",
    "    tmp_df = tmp_df.loc[:,~tmp_df.columns.duplicated()] #very important! removes duplicate columns note that it removes the multiple \"source\" columnsns\n",
    "    totadf = totadf.loc[:,~totadf.columns.duplicated()]#very important! removes duplicate columns note that it removes the multiple \"source\" columnsns \n",
    "    totadf = pd.concat([totadf,tmp_df], axis=0, sort=False)\n",
    "totadf = totadf.reset_index(drop=True)\n",
    "totadf = pd.concat([totadf, textdf], axis=1)"
   ]
  },
  {
   "cell_type": "code",
   "execution_count": 38,
   "metadata": {},
   "outputs": [
    {
     "data": {
      "text/html": [
       "<div>\n",
       "<style scoped>\n",
       "    .dataframe tbody tr th:only-of-type {\n",
       "        vertical-align: middle;\n",
       "    }\n",
       "\n",
       "    .dataframe tbody tr th {\n",
       "        vertical-align: top;\n",
       "    }\n",
       "\n",
       "    .dataframe thead th {\n",
       "        text-align: right;\n",
       "    }\n",
       "</style>\n",
       "<table border=\"1\" class=\"dataframe\">\n",
       "  <thead>\n",
       "    <tr style=\"text-align: right;\">\n",
       "      <th></th>\n",
       "      <th>index</th>\n",
       "      <th>treaty_identifier</th>\n",
       "      <th>chapter_number</th>\n",
       "      <th>article_number</th>\n",
       "      <th>treaty_text</th>\n",
       "      <th>year_signed</th>\n",
       "      <th>type</th>\n",
       "      <th>region</th>\n",
       "      <th>name</th>\n",
       "    </tr>\n",
       "  </thead>\n",
       "  <tbody>\n",
       "    <tr>\n",
       "      <th>0</th>\n",
       "      <td>0</td>\n",
       "      <td>1</td>\n",
       "      <td>17</td>\n",
       "      <td>175</td>\n",
       "      <td>preamble general provisions article 1 the obje...</td>\n",
       "      <td>2007</td>\n",
       "      <td>Free Trade Agreement &amp; Economic Integration Ag...</td>\n",
       "      <td>East Asia</td>\n",
       "      <td>Japan - Thailand</td>\n",
       "    </tr>\n",
       "    <tr>\n",
       "      <th>1</th>\n",
       "      <td>1</td>\n",
       "      <td>2</td>\n",
       "      <td>8</td>\n",
       "      <td>40</td>\n",
       "      <td>preamble article 1 the parties shall gradually...</td>\n",
       "      <td>2005</td>\n",
       "      <td>Free Trade Agreement</td>\n",
       "      <td>Africa; Europe</td>\n",
       "      <td>Egypt - Turkey</td>\n",
       "    </tr>\n",
       "    <tr>\n",
       "      <th>2</th>\n",
       "      <td>2</td>\n",
       "      <td>3</td>\n",
       "      <td>21</td>\n",
       "      <td>201</td>\n",
       "      <td>preamble general provisions article 1 the part...</td>\n",
       "      <td>2007</td>\n",
       "      <td>Free Trade Agreement &amp; Economic Integration Ag...</td>\n",
       "      <td>South America; East Asia</td>\n",
       "      <td>Chile - Japan</td>\n",
       "    </tr>\n",
       "    <tr>\n",
       "      <th>3</th>\n",
       "      <td>3</td>\n",
       "      <td>4</td>\n",
       "      <td>3</td>\n",
       "      <td>6</td>\n",
       "      <td>article 1 the republic of albania, bosnia an...</td>\n",
       "      <td>2006</td>\n",
       "      <td>Free Trade Agreement</td>\n",
       "      <td>Europe; Commonwealth of Independent States (CIS)</td>\n",
       "      <td>Central European Free Trade Agreement (CEFTA) ...</td>\n",
       "    </tr>\n",
       "    <tr>\n",
       "      <th>4</th>\n",
       "      <td>4</td>\n",
       "      <td>5</td>\n",
       "      <td>11</td>\n",
       "      <td>52</td>\n",
       "      <td>preamble general provisions article 1 1. egypt...</td>\n",
       "      <td>2007</td>\n",
       "      <td>Free Trade Agreement</td>\n",
       "      <td>Africa; Europe</td>\n",
       "      <td>EFTA - Egypt</td>\n",
       "    </tr>\n",
       "  </tbody>\n",
       "</table>\n",
       "</div>"
      ],
      "text/plain": [
       "   index treaty_identifier  chapter_number  article_number  \\\n",
       "0      0                 1              17             175   \n",
       "1      1                 2               8              40   \n",
       "2      2                 3              21             201   \n",
       "3      3                 4               3               6   \n",
       "4      4                 5              11              52   \n",
       "\n",
       "                                         treaty_text  year_signed  \\\n",
       "0  preamble general provisions article 1 the obje...         2007   \n",
       "1  preamble article 1 the parties shall gradually...         2005   \n",
       "2  preamble general provisions article 1 the part...         2007   \n",
       "3    article 1 the republic of albania, bosnia an...         2006   \n",
       "4  preamble general provisions article 1 1. egypt...         2007   \n",
       "\n",
       "                                                type  \\\n",
       "0  Free Trade Agreement & Economic Integration Ag...   \n",
       "1                               Free Trade Agreement   \n",
       "2  Free Trade Agreement & Economic Integration Ag...   \n",
       "3                               Free Trade Agreement   \n",
       "4                               Free Trade Agreement   \n",
       "\n",
       "                                             region  \\\n",
       "0                                         East Asia   \n",
       "1                                    Africa; Europe   \n",
       "2                          South America; East Asia   \n",
       "3  Europe; Commonwealth of Independent States (CIS)   \n",
       "4                                    Africa; Europe   \n",
       "\n",
       "                                                name  \n",
       "0                                   Japan - Thailand  \n",
       "1                                     Egypt - Turkey  \n",
       "2                                      Chile - Japan  \n",
       "3  Central European Free Trade Agreement (CEFTA) ...  \n",
       "4                                       EFTA - Egypt  "
      ]
     },
     "execution_count": 38,
     "metadata": {},
     "output_type": "execute_result"
    }
   ],
   "source": [
    "totadf['year_signed'] = totadf.date_signed.map( lambda x: pd.to_datetime(x).year)\n",
    "totadf = totadf[totadf.language == 'en']\n",
    "new = ['treaty_identifier', 'chapter_number', 'article_number', 'treaty_text', 'year_signed', 'type', 'region', 'name']\n",
    "\n",
    "totadf_emb = totadf[new]\n",
    "totadf_emb = totadf_emb.reset_index()\n",
    "totadf_emb.head()"
   ]
  },
  {
   "cell_type": "code",
   "execution_count": 17,
   "metadata": {},
   "outputs": [
    {
     "name": "stdout",
     "output_type": "stream",
     "text": [
      "[==============================================----] 93.3% 1551.1/1662.8MB downloaded"
     ]
    }
   ],
   "source": [
    "model = api.load(\"word2vec-google-news-300\") "
   ]
  },
  {
   "cell_type": "code",
   "execution_count": 39,
   "metadata": {},
   "outputs": [],
   "source": [
    "# totadf_emb[totadf_emb['treaty_text'] == '']"
   ]
  },
  {
   "cell_type": "code",
   "execution_count": 40,
   "metadata": {},
   "outputs": [
    {
     "data": {
      "text/plain": [
       "0.21195714679909775"
      ]
     },
     "execution_count": 40,
     "metadata": {},
     "output_type": "execute_result"
    }
   ],
   "source": [
    "distance = model.wmdistance(totadf_emb['treaty_text'][0], totadf_emb['treaty_text'][3])\n",
    "distance"
   ]
  },
  {
   "cell_type": "code",
   "execution_count": null,
   "metadata": {},
   "outputs": [],
   "source": [
    "For every treaty in dataframe compute distance to all other treaties \n",
    "\n",
    "for text in totadf_emb['treaty_text']:\n",
    "    distance = []\n",
    "    "
   ]
  },
  {
   "cell_type": "code",
   "execution_count": 41,
   "metadata": {},
   "outputs": [
    {
     "name": "stdout",
     "output_type": "stream",
     "text": [
      "0\n",
      "1\n",
      "2\n",
      "3\n",
      "4\n",
      "5\n",
      "6\n",
      "7\n",
      "8\n",
      "9\n",
      "10\n",
      "11\n",
      "12\n"
     ]
    },
    {
     "ename": "KeyboardInterrupt",
     "evalue": "",
     "output_type": "error",
     "traceback": [
      "\u001b[0;31m---------------------------------------------------------------------------\u001b[0m",
      "\u001b[0;31mKeyboardInterrupt\u001b[0m                         Traceback (most recent call last)",
      "\u001b[0;32m<ipython-input-41-2193b9d7e2ab>\u001b[0m in \u001b[0;36m<module>\u001b[0;34m()\u001b[0m\n\u001b[1;32m      6\u001b[0m         \u001b[0mt1\u001b[0m \u001b[0;34m=\u001b[0m \u001b[0mitem\u001b[0m\u001b[0;34m[\u001b[0m\u001b[0;36m1\u001b[0m\u001b[0;34m]\u001b[0m\u001b[0;34m[\u001b[0m\u001b[0;36m4\u001b[0m\u001b[0;34m]\u001b[0m\u001b[0;34m[\u001b[0m\u001b[0;36m0\u001b[0m\u001b[0;34m]\u001b[0m\u001b[0;34m\u001b[0m\u001b[0m\n\u001b[1;32m      7\u001b[0m         \u001b[0mt2\u001b[0m \u001b[0;34m=\u001b[0m \u001b[0mitem\u001b[0m\u001b[0;34m[\u001b[0m\u001b[0;36m1\u001b[0m\u001b[0;34m]\u001b[0m\u001b[0;34m[\u001b[0m\u001b[0;36m4\u001b[0m\u001b[0;34m]\u001b[0m\u001b[0;34m[\u001b[0m\u001b[0mn\u001b[0m\u001b[0;34m]\u001b[0m\u001b[0;34m\u001b[0m\u001b[0m\n\u001b[0;32m----> 8\u001b[0;31m         \u001b[0mdistance\u001b[0m \u001b[0;34m=\u001b[0m \u001b[0mmodel\u001b[0m\u001b[0;34m.\u001b[0m\u001b[0mwmdistance\u001b[0m\u001b[0;34m(\u001b[0m\u001b[0mt1\u001b[0m\u001b[0;34m,\u001b[0m \u001b[0mt2\u001b[0m\u001b[0;34m)\u001b[0m\u001b[0;34m\u001b[0m\u001b[0m\n\u001b[0m\u001b[1;32m      9\u001b[0m         \u001b[0md\u001b[0m\u001b[0;34m.\u001b[0m\u001b[0mappend\u001b[0m\u001b[0;34m(\u001b[0m\u001b[0mdistance\u001b[0m\u001b[0;34m)\u001b[0m\u001b[0;34m\u001b[0m\u001b[0m\n\u001b[1;32m     10\u001b[0m     \u001b[0mt_d\u001b[0m\u001b[0;34m.\u001b[0m\u001b[0mappend\u001b[0m\u001b[0;34m(\u001b[0m\u001b[0;34m[\u001b[0m\u001b[0md\u001b[0m\u001b[0;34m]\u001b[0m\u001b[0;34m)\u001b[0m\u001b[0;34m\u001b[0m\u001b[0m\n",
      "\u001b[0;32m~/.pyenv/versions/3.6.5/lib/python3.6/site-packages/gensim/models/keyedvectors.py\u001b[0m in \u001b[0;36mwmdistance\u001b[0;34m(self, document1, document2)\u001b[0m\n\u001b[1;32m    800\u001b[0m \u001b[0;34m\u001b[0m\u001b[0m\n\u001b[1;32m    801\u001b[0m         \u001b[0;31m# Compute WMD.\u001b[0m\u001b[0;34m\u001b[0m\u001b[0;34m\u001b[0m\u001b[0m\n\u001b[0;32m--> 802\u001b[0;31m         \u001b[0;32mreturn\u001b[0m \u001b[0memd\u001b[0m\u001b[0;34m(\u001b[0m\u001b[0md1\u001b[0m\u001b[0;34m,\u001b[0m \u001b[0md2\u001b[0m\u001b[0;34m,\u001b[0m \u001b[0mdistance_matrix\u001b[0m\u001b[0;34m)\u001b[0m\u001b[0;34m\u001b[0m\u001b[0m\n\u001b[0m\u001b[1;32m    803\u001b[0m \u001b[0;34m\u001b[0m\u001b[0m\n\u001b[1;32m    804\u001b[0m     \u001b[0;32mdef\u001b[0m \u001b[0mmost_similar_cosmul\u001b[0m\u001b[0;34m(\u001b[0m\u001b[0mself\u001b[0m\u001b[0;34m,\u001b[0m \u001b[0mpositive\u001b[0m\u001b[0;34m=\u001b[0m\u001b[0;32mNone\u001b[0m\u001b[0;34m,\u001b[0m \u001b[0mnegative\u001b[0m\u001b[0;34m=\u001b[0m\u001b[0;32mNone\u001b[0m\u001b[0;34m,\u001b[0m \u001b[0mtopn\u001b[0m\u001b[0;34m=\u001b[0m\u001b[0;36m10\u001b[0m\u001b[0;34m)\u001b[0m\u001b[0;34m:\u001b[0m\u001b[0;34m\u001b[0m\u001b[0m\n",
      "\u001b[0;31mKeyboardInterrupt\u001b[0m: "
     ]
    }
   ],
   "source": [
    "t_d = []\n",
    "for item in totadf_emb.iterrows():\n",
    "    print(item[1][0])\n",
    "    d = []\n",
    "    for x,n in enumerate(range(0,len(item[1][4]))):\n",
    "        t1 = item[1][4][0]\n",
    "        t2 = item[1][4][n]\n",
    "        distance = model.wmdistance(t1, t2)\n",
    "        d.append(distance)\n",
    "    t_d.append([d])"
   ]
  },
  {
   "cell_type": "code",
   "execution_count": null,
   "metadata": {},
   "outputs": [],
   "source": []
  },
  {
   "cell_type": "code",
   "execution_count": null,
   "metadata": {},
   "outputs": [],
   "source": []
  }
 ],
 "metadata": {
  "kernelspec": {
   "display_name": "Python 3",
   "language": "python",
   "name": "python3"
  },
  "language_info": {
   "codemirror_mode": {
    "name": "ipython",
    "version": 3
   },
   "file_extension": ".py",
   "mimetype": "text/x-python",
   "name": "python",
   "nbconvert_exporter": "python",
   "pygments_lexer": "ipython3",
   "version": "3.6.5"
  }
 },
 "nbformat": 4,
 "nbformat_minor": 2
}
