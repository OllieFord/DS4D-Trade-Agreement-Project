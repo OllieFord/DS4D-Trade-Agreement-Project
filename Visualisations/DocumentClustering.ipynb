{
 "cells": [
  {
   "cell_type": "code",
   "execution_count": 16,
   "metadata": {},
   "outputs": [],
   "source": [
    "# Imports \n",
    "import os\n",
    "import xml.etree.ElementTree as et\n",
    "import pandas as pd\n",
    "from itertools import chain\n",
    "\n",
    "import numpy as np\n",
    "from sklearn.manifold import TSNE\n",
    "from sklearn.feature_extraction.text import TfidfVectorizer\n",
    "from sklearn.decomposition import NMF\n",
    "from sklearn.decomposition import TruncatedSVD as LSA\n",
    "import random\n",
    "random.seed(13)\n",
    "\n",
    "\n",
    "#visualisation stuff\n",
    "import seaborn as sns\n",
    "import matplotlib.pyplot as plt\n",
    "import matplotlib.patches as mpatches\n",
    "import matplotlib\n",
    "%matplotlib widget\n",
    "\n",
    "\n",
    "# import mpld3\n",
    "# mpld3.enable_notebook()\n",
    "\n",
    "import spacy\n",
    "from collections import Counter\n",
    "from spacy.tokenizer import Tokenizer\n",
    "nlp = spacy.load('en')\n",
    "tokenizer = Tokenizer(nlp.vocab)\n",
    "import networkx as nx"
   ]
  },
  {
   "cell_type": "code",
   "execution_count": null,
   "metadata": {},
   "outputs": [],
   "source": []
  },
  {
   "cell_type": "code",
   "execution_count": 2,
   "metadata": {},
   "outputs": [],
   "source": [
    "# Load data \n",
    "PATH = \"../xml/\"\n",
    "extension = \".xml\"\n",
    "\n",
    "def load_order(PATH, extension):\n",
    "    \"\"\"\n",
    "    Custom function for loading and sorting the xml files from the TOTA dataset.\n",
    "    Returns an array of filenames sorted by the number in the file name.\n",
    "    \"\"\"\n",
    "    files = []\n",
    "    for filename in os.listdir(PATH):\n",
    "        if filename == \".ipynb_checkpoints\":\n",
    "            continue\n",
    "        files.append(filename.split(\".\")[0]) # remove .xml\n",
    "    files.sort(key=lambda x:int(x.split(\"_\")[1])) # sort files based on file number \n",
    "\n",
    "    files = [file + extension for file in files]\n",
    "#     print(files)\n",
    "    return files\n",
    "\n",
    "files = load_order(PATH, extension)"
   ]
  },
  {
   "cell_type": "code",
   "execution_count": 3,
   "metadata": {},
   "outputs": [],
   "source": [
    "def xml2list(file):\n",
    "    \"\"\"\n",
    "    Custom function for parsing and outputing the data into arrays.\n",
    "    Returns two array's the extracted column names and content for each column.\n",
    "    \"\"\"\n",
    "    parsed_xml = et.parse(file)\n",
    "\n",
    "    root = parsed_xml.getroot()\n",
    "\n",
    "    meta_column_names = []\n",
    "    meta_column_content = []\n",
    "\n",
    "    for item in root[0]:\n",
    "        grandchild = item.findall(\".//\")\n",
    "        if grandchild:\n",
    "            grandstore = []\n",
    "            #print(item.tag)\n",
    "            meta_column_names.append(item.tag)\n",
    "            for x in grandchild:\n",
    "                grandstore.append(int(x.attrib.get('n')))\n",
    "                #print(x.tag +\":\", x.attrib)\n",
    "            meta_column_content.append(grandstore)\n",
    "\n",
    "        else:\n",
    "            #print(item.tag +\":\", item.text)\n",
    "            meta_column_names.append(item.tag)\n",
    "            meta_column_content.append(item.text)\n",
    "            \n",
    "    return meta_column_names, meta_column_content\n",
    "    \n",
    "    \n",
    "def xml2list_text(file):\n",
    "    \"\"\"\n",
    "    Custom function for parsing and outputing the data into arrays.\n",
    "    Returns two array's the extracted column names and content for each column.\n",
    "    \"\"\"\n",
    "\n",
    "    parsed_xml = et.parse(file)\n",
    "    root = parsed_xml.getroot()\n",
    "    chapters = []\n",
    "    article_store = []\n",
    "    \n",
    "    treaty_text = ''\n",
    "    \n",
    "    for item in root[1]:\n",
    "        chapter_name = item.attrib.get('name')\n",
    "#         print(\"chapter: \" + item.attrib.get('name'))\n",
    "        chapters.append(chapter_name)\n",
    "        if chapter_name == None:\n",
    "            continue\n",
    "        treaty_text += chapter_name + \" \"\n",
    "        \n",
    "        articles = item.findall(\"article\")\n",
    "        for article in articles:\n",
    "#             print(article.attrib.get('name'))\n",
    "            art_no = article.attrib.get('number')\n",
    "            art_text =  article.text\n",
    "            article_store.append(art_no)\n",
    "            if art_no == None:\n",
    "                continue\n",
    "#             print(art_no)\n",
    "            treaty_text += art_no + \" \"\n",
    "            treaty_text += art_text + \" \"\n",
    "        \n",
    "            \n",
    "    return len(chapters), len(article_store), treaty_text"
   ]
  },
  {
   "cell_type": "code",
   "execution_count": 4,
   "metadata": {},
   "outputs": [],
   "source": [
    "textdf = pd.DataFrame()\n",
    "\n",
    "chapter_numbers = []\n",
    "article_numbers = []\n",
    "treaty_text = []\n",
    "\n",
    "for i in range(0, len(files)):\n",
    "    chapter_no, article_no, text = xml2list_text(PATH + files[i])\n",
    "    chapter_numbers.append(chapter_no)\n",
    "    article_numbers.append(article_no)\n",
    "    treaty_text.append(text.lower())\n",
    "\n",
    "textdf[\"chapter_number\"] = chapter_numbers\n",
    "textdf[\"article_number\"] = article_numbers\n",
    "textdf[\"treaty_text\"] = treaty_text"
   ]
  },
  {
   "cell_type": "code",
   "execution_count": 5,
   "metadata": {},
   "outputs": [],
   "source": [
    "# with open('alltext.txt', 'w') as f:\n",
    "#     for item in t_txt:\n",
    "#         f.write(\"%s\\n\" % item)"
   ]
  },
  {
   "cell_type": "code",
   "execution_count": 6,
   "metadata": {},
   "outputs": [],
   "source": [
    "with open(\"alltext.txt\") as f:\n",
    "    wordcount = Counter(f.read().split())\n",
    "\n",
    "stop_words_law = []\n",
    "for item, frequency in wordcount.most_common(2000):\n",
    "    stop_words_law.append(item)\n",
    "stop_words_law.append('\\n')"
   ]
  },
  {
   "cell_type": "code",
   "execution_count": 7,
   "metadata": {},
   "outputs": [],
   "source": [
    "dfcols, null = xml2list(PATH + files[3])\n",
    "totadf = pd.DataFrame(columns=dfcols)\n",
    "\n",
    "for i in range(0, len(files)):\n",
    "    dfcolstmp, datatmp = xml2list(PATH + files[i])\n",
    "    tmp_df = pd.DataFrame([datatmp], columns=dfcolstmp)\n",
    "    tmp_df = tmp_df.loc[:,~tmp_df.columns.duplicated()] #very important! removes duplicate columns note that it removes the multiple \"source\" columnsns\n",
    "    totadf = totadf.loc[:,~totadf.columns.duplicated()]#very important! removes duplicate columns note that it removes the multiple \"source\" columnsns \n",
    "    totadf = pd.concat([totadf,tmp_df], axis=0, sort=False)\n",
    "totadf = totadf.reset_index(drop=True)\n",
    "totadf = pd.concat([totadf, textdf], axis=1)"
   ]
  },
  {
   "cell_type": "code",
   "execution_count": null,
   "metadata": {},
   "outputs": [],
   "source": []
  },
  {
   "cell_type": "code",
   "execution_count": 206,
   "metadata": {},
   "outputs": [],
   "source": [
    "relations = totadf[totadf['status'] == \"In Force\"]\n",
    "\n",
    "relations = relations[relations['crossregional'] == 'Yes'].region\n",
    "\n",
    "new_relations = []\n",
    "for i in relations:\n",
    "    i = i.split(\"; \")\n",
    "    new_relations.append(i)\n",
    "\n",
    "\n",
    "uniquePairings = set(map(tuple,new_relations))\n"
   ]
  },
  {
   "cell_type": "code",
   "execution_count": 209,
   "metadata": {},
   "outputs": [],
   "source": [
    "import csv\n",
    "\n",
    "with open(\"output.csv\", \"w\") as f:\n",
    "    writer = csv.writer(f)\n",
    "    writer.writerows(str(relations))"
   ]
  },
  {
   "cell_type": "code",
   "execution_count": 211,
   "metadata": {},
   "outputs": [],
   "source": [
    "my_df = pd.DataFrame(new_relations)\n",
    "\n",
    "my_df.to_csv('my_csv.csv', index=False, header=False)"
   ]
  },
  {
   "cell_type": "code",
   "execution_count": 203,
   "metadata": {},
   "outputs": [
    {
     "ename": "ValueError",
     "evalue": "dictionary update sequence element #0 has length 1; 2 is required",
     "output_type": "error",
     "traceback": [
      "\u001b[0;31m---------------------------------------------------------------------------\u001b[0m",
      "\u001b[0;31mValueError\u001b[0m                                Traceback (most recent call last)",
      "\u001b[0;32m<ipython-input-203-64b3ae70a4f6>\u001b[0m in \u001b[0;36m<module>\u001b[0;34m()\u001b[0m\n\u001b[1;32m      1\u001b[0m \u001b[0mG\u001b[0m\u001b[0;34m=\u001b[0m\u001b[0mnx\u001b[0m\u001b[0;34m.\u001b[0m\u001b[0mGraph\u001b[0m\u001b[0;34m(\u001b[0m\u001b[0;34m)\u001b[0m\u001b[0;34m\u001b[0m\u001b[0m\n\u001b[1;32m      2\u001b[0m \u001b[0mG\u001b[0m\u001b[0;34m.\u001b[0m\u001b[0madd_nodes_from\u001b[0m\u001b[0;34m(\u001b[0m\u001b[0mrelations\u001b[0m\u001b[0;34m)\u001b[0m\u001b[0;34m\u001b[0m\u001b[0m\n\u001b[0;32m----> 3\u001b[0;31m \u001b[0mG\u001b[0m\u001b[0;34m.\u001b[0m\u001b[0madd_edges_from\u001b[0m\u001b[0;34m(\u001b[0m\u001b[0mlist\u001b[0m\u001b[0;34m(\u001b[0m\u001b[0muniquePairings\u001b[0m\u001b[0;34m)\u001b[0m\u001b[0;34m)\u001b[0m\u001b[0;34m\u001b[0m\u001b[0m\n\u001b[0m\u001b[1;32m      4\u001b[0m \u001b[0mfig\u001b[0m\u001b[0;34m=\u001b[0m\u001b[0mplt\u001b[0m\u001b[0;34m.\u001b[0m\u001b[0mfigure\u001b[0m\u001b[0;34m(\u001b[0m\u001b[0mfigsize\u001b[0m\u001b[0;34m=\u001b[0m\u001b[0;34m(\u001b[0m\u001b[0;36m13\u001b[0m\u001b[0;34m,\u001b[0m \u001b[0;36m12\u001b[0m\u001b[0;34m)\u001b[0m\u001b[0;34m)\u001b[0m\u001b[0;34m\u001b[0m\u001b[0m\n\u001b[1;32m      5\u001b[0m \u001b[0mpos\u001b[0m \u001b[0;34m=\u001b[0m \u001b[0mnx\u001b[0m\u001b[0;34m.\u001b[0m\u001b[0mspring_layout\u001b[0m\u001b[0;34m(\u001b[0m\u001b[0mG\u001b[0m\u001b[0;34m,\u001b[0m \u001b[0mscale\u001b[0m\u001b[0;34m=\u001b[0m\u001b[0;36m300\u001b[0m\u001b[0;34m,\u001b[0m\u001b[0miterations\u001b[0m\u001b[0;34m=\u001b[0m\u001b[0;36m40\u001b[0m\u001b[0;34m,\u001b[0m \u001b[0mk\u001b[0m\u001b[0;34m=\u001b[0m\u001b[0;36m1\u001b[0m\u001b[0;34m)\u001b[0m\u001b[0;34m\u001b[0m\u001b[0m\n",
      "\u001b[0;32m~/.pyenv/versions/3.6.5/lib/python3.6/site-packages/networkx/classes/graph.py\u001b[0m in \u001b[0;36madd_edges_from\u001b[0;34m(self, ebunch_to_add, **attr)\u001b[0m\n\u001b[1;32m    941\u001b[0m             \u001b[0mdatadict\u001b[0m \u001b[0;34m=\u001b[0m \u001b[0mself\u001b[0m\u001b[0;34m.\u001b[0m\u001b[0m_adj\u001b[0m\u001b[0;34m[\u001b[0m\u001b[0mu\u001b[0m\u001b[0;34m]\u001b[0m\u001b[0;34m.\u001b[0m\u001b[0mget\u001b[0m\u001b[0;34m(\u001b[0m\u001b[0mv\u001b[0m\u001b[0;34m,\u001b[0m \u001b[0mself\u001b[0m\u001b[0;34m.\u001b[0m\u001b[0medge_attr_dict_factory\u001b[0m\u001b[0;34m(\u001b[0m\u001b[0;34m)\u001b[0m\u001b[0;34m)\u001b[0m\u001b[0;34m\u001b[0m\u001b[0m\n\u001b[1;32m    942\u001b[0m             \u001b[0mdatadict\u001b[0m\u001b[0;34m.\u001b[0m\u001b[0mupdate\u001b[0m\u001b[0;34m(\u001b[0m\u001b[0mattr\u001b[0m\u001b[0;34m)\u001b[0m\u001b[0;34m\u001b[0m\u001b[0m\n\u001b[0;32m--> 943\u001b[0;31m             \u001b[0mdatadict\u001b[0m\u001b[0;34m.\u001b[0m\u001b[0mupdate\u001b[0m\u001b[0;34m(\u001b[0m\u001b[0mdd\u001b[0m\u001b[0;34m)\u001b[0m\u001b[0;34m\u001b[0m\u001b[0m\n\u001b[0m\u001b[1;32m    944\u001b[0m             \u001b[0mself\u001b[0m\u001b[0;34m.\u001b[0m\u001b[0m_adj\u001b[0m\u001b[0;34m[\u001b[0m\u001b[0mu\u001b[0m\u001b[0;34m]\u001b[0m\u001b[0;34m[\u001b[0m\u001b[0mv\u001b[0m\u001b[0;34m]\u001b[0m \u001b[0;34m=\u001b[0m \u001b[0mdatadict\u001b[0m\u001b[0;34m\u001b[0m\u001b[0m\n\u001b[1;32m    945\u001b[0m             \u001b[0mself\u001b[0m\u001b[0;34m.\u001b[0m\u001b[0m_adj\u001b[0m\u001b[0;34m[\u001b[0m\u001b[0mv\u001b[0m\u001b[0;34m]\u001b[0m\u001b[0;34m[\u001b[0m\u001b[0mu\u001b[0m\u001b[0;34m]\u001b[0m \u001b[0;34m=\u001b[0m \u001b[0mdatadict\u001b[0m\u001b[0;34m\u001b[0m\u001b[0m\n",
      "\u001b[0;31mValueError\u001b[0m: dictionary update sequence element #0 has length 1; 2 is required"
     ]
    }
   ],
   "source": [
    "G=nx.Graph()\n",
    "G.add_nodes_from(relations)\n",
    "G.add_edges_from(list(uniquePairings))\n",
    "fig=plt.figure(figsize=(13, 12))\n",
    "pos = nx.spring_layout(G, scale=300,iterations=40, k=1)\n",
    "nx.draw(G, pos, node_size=20,width=0.1, with_labels=True)\n",
    "\n",
    "plt.show() # display"
   ]
  },
  {
   "cell_type": "code",
   "execution_count": null,
   "metadata": {},
   "outputs": [],
   "source": []
  },
  {
   "cell_type": "code",
   "execution_count": 8,
   "metadata": {},
   "outputs": [
    {
     "data": {
      "text/html": [
       "<div>\n",
       "<style scoped>\n",
       "    .dataframe tbody tr th:only-of-type {\n",
       "        vertical-align: middle;\n",
       "    }\n",
       "\n",
       "    .dataframe tbody tr th {\n",
       "        vertical-align: top;\n",
       "    }\n",
       "\n",
       "    .dataframe thead th {\n",
       "        text-align: right;\n",
       "    }\n",
       "</style>\n",
       "<table border=\"1\" class=\"dataframe\">\n",
       "  <thead>\n",
       "    <tr style=\"text-align: right;\">\n",
       "      <th></th>\n",
       "      <th>index</th>\n",
       "      <th>treaty_identifier</th>\n",
       "      <th>chapter_number</th>\n",
       "      <th>article_number</th>\n",
       "      <th>treaty_text</th>\n",
       "      <th>year_signed</th>\n",
       "      <th>type</th>\n",
       "      <th>region</th>\n",
       "      <th>name</th>\n",
       "    </tr>\n",
       "  </thead>\n",
       "  <tbody>\n",
       "    <tr>\n",
       "      <th>0</th>\n",
       "      <td>0</td>\n",
       "      <td>1</td>\n",
       "      <td>17</td>\n",
       "      <td>175</td>\n",
       "      <td>preamble general provisions article 1 the obje...</td>\n",
       "      <td>2007</td>\n",
       "      <td>Free Trade Agreement &amp; Economic Integration Ag...</td>\n",
       "      <td>East Asia</td>\n",
       "      <td>Japan - Thailand</td>\n",
       "    </tr>\n",
       "    <tr>\n",
       "      <th>1</th>\n",
       "      <td>1</td>\n",
       "      <td>2</td>\n",
       "      <td>8</td>\n",
       "      <td>40</td>\n",
       "      <td>preamble article 1 the parties shall gradually...</td>\n",
       "      <td>2005</td>\n",
       "      <td>Free Trade Agreement</td>\n",
       "      <td>Africa; Europe</td>\n",
       "      <td>Egypt - Turkey</td>\n",
       "    </tr>\n",
       "    <tr>\n",
       "      <th>2</th>\n",
       "      <td>2</td>\n",
       "      <td>3</td>\n",
       "      <td>21</td>\n",
       "      <td>201</td>\n",
       "      <td>preamble general provisions article 1 the part...</td>\n",
       "      <td>2007</td>\n",
       "      <td>Free Trade Agreement &amp; Economic Integration Ag...</td>\n",
       "      <td>South America; East Asia</td>\n",
       "      <td>Chile - Japan</td>\n",
       "    </tr>\n",
       "    <tr>\n",
       "      <th>3</th>\n",
       "      <td>3</td>\n",
       "      <td>4</td>\n",
       "      <td>3</td>\n",
       "      <td>0</td>\n",
       "      <td></td>\n",
       "      <td>2006</td>\n",
       "      <td>Free Trade Agreement</td>\n",
       "      <td>Europe; Commonwealth of Independent States (CIS)</td>\n",
       "      <td>Central European Free Trade Agreement (CEFTA) ...</td>\n",
       "    </tr>\n",
       "    <tr>\n",
       "      <th>4</th>\n",
       "      <td>4</td>\n",
       "      <td>5</td>\n",
       "      <td>11</td>\n",
       "      <td>52</td>\n",
       "      <td>preamble general provisions article 1 1. egypt...</td>\n",
       "      <td>2007</td>\n",
       "      <td>Free Trade Agreement</td>\n",
       "      <td>Africa; Europe</td>\n",
       "      <td>EFTA - Egypt</td>\n",
       "    </tr>\n",
       "  </tbody>\n",
       "</table>\n",
       "</div>"
      ],
      "text/plain": [
       "   index treaty_identifier  chapter_number  article_number  \\\n",
       "0      0                 1              17             175   \n",
       "1      1                 2               8              40   \n",
       "2      2                 3              21             201   \n",
       "3      3                 4               3               0   \n",
       "4      4                 5              11              52   \n",
       "\n",
       "                                         treaty_text  year_signed  \\\n",
       "0  preamble general provisions article 1 the obje...         2007   \n",
       "1  preamble article 1 the parties shall gradually...         2005   \n",
       "2  preamble general provisions article 1 the part...         2007   \n",
       "3                                                            2006   \n",
       "4  preamble general provisions article 1 1. egypt...         2007   \n",
       "\n",
       "                                                type  \\\n",
       "0  Free Trade Agreement & Economic Integration Ag...   \n",
       "1                               Free Trade Agreement   \n",
       "2  Free Trade Agreement & Economic Integration Ag...   \n",
       "3                               Free Trade Agreement   \n",
       "4                               Free Trade Agreement   \n",
       "\n",
       "                                             region  \\\n",
       "0                                         East Asia   \n",
       "1                                    Africa; Europe   \n",
       "2                          South America; East Asia   \n",
       "3  Europe; Commonwealth of Independent States (CIS)   \n",
       "4                                    Africa; Europe   \n",
       "\n",
       "                                                name  \n",
       "0                                   Japan - Thailand  \n",
       "1                                     Egypt - Turkey  \n",
       "2                                      Chile - Japan  \n",
       "3  Central European Free Trade Agreement (CEFTA) ...  \n",
       "4                                       EFTA - Egypt  "
      ]
     },
     "execution_count": 8,
     "metadata": {},
     "output_type": "execute_result"
    }
   ],
   "source": [
    "totadf['year_signed'] = totadf.date_signed.map( lambda x: pd.to_datetime(x).year)\n",
    "totadf = totadf[totadf.language == 'en']\n",
    "new = ['treaty_identifier', 'chapter_number', 'article_number', 'treaty_text', 'year_signed', 'type', 'region', 'name']\n",
    "\n",
    "totadf_emb = totadf[new]\n",
    "totadf_emb = totadf_emb.reset_index()\n",
    "totadf_emb.head()"
   ]
  },
  {
   "cell_type": "code",
   "execution_count": 9,
   "metadata": {},
   "outputs": [],
   "source": [
    "def print_top_words(model, feature_names, n_top_words):\n",
    "    for topic_idx, topic in enumerate(model.components_):\n",
    "        print(\"\\nTopic #%d:\" % topic_idx)\n",
    "        print(\" \".join([feature_names[i]\n",
    "                        for i in topic.argsort()[:-n_top_words - 1:-1]]))\n",
    "    print()\n",
    "    \n",
    "def txt_2_emb(text_data):\n",
    "    #I convert a collection of raw documents into a matrix of TF-IDF features\n",
    "    tfidf_vectorizer = TfidfVectorizer(max_df=0.95, min_df=2,max_features=n_features, stop_words=stop_words_law)\n",
    "    #retearns a term-document matrix\n",
    "    tfidf = tfidf_vectorizer.fit_transform(text_data['treaty_text'])\n",
    "    # This is where the non negative matrix factorization happens - in short it is a form of dimensionality reduction\n",
    "    nmf = NMF(n_components=n_topics, random_state=0).fit(tfidf)\n",
    "\n",
    "    # print(\"Topics found via LSA:\")\n",
    "    # need to print the words most related to the seperate topics - quite difficult to differentiate by hand. \n",
    "    # tfidf_feature_names = tfidf_vectorizer.get_feature_names()\n",
    "    # print_top_words(nmf, tfidf_feature_names, n_top_words)\n",
    "\n",
    "    nmf_embedding = nmf.transform(tfidf)\n",
    "    nmf_embedding = (nmf_embedding - nmf_embedding.mean(axis=0))/nmf_embedding.std(axis=0)\n",
    "    return nmf_embedding\n",
    "\n",
    "def create_dataframe(nmf_embedding, tsne, text_data):\n",
    "    tsne_embedding = tsne.fit_transform(nmf_embedding) \n",
    "    tsne_embedding = pd.DataFrame(tsne_embedding, columns=['x','y']) # turn the results into a dataframe\n",
    "    tsne_embedding['hue'] = nmf_embedding.argmax(axis=1) # attach a hue column so that we can later color each cluster differently\n",
    "    tsne_embedding['year'] = text_data['year_signed'] # attach a year column so that we can see the evolution of the treaties over time.\n",
    "    tsne_embedding['type'] = text_data['type']\n",
    "    tsne_embedding['region'] = text_data['region']\n",
    "    tsne_embedding['name'] = text_data['name']\n",
    "    tsne_embedding['art_no'] = text_data['article_number']\n",
    "    return tsne_embedding"
   ]
  },
  {
   "cell_type": "code",
   "execution_count": null,
   "metadata": {},
   "outputs": [],
   "source": []
  },
  {
   "cell_type": "code",
   "execution_count": null,
   "metadata": {},
   "outputs": [],
   "source": []
  },
  {
   "cell_type": "code",
   "execution_count": 10,
   "metadata": {},
   "outputs": [],
   "source": [
    "n_features = 1000\n",
    "n_topics = 7 # 5 because I want it to try and cluster based on the 5 treaty types\n",
    "n_top_words = 3\n",
    "tsne1 = TSNE(n_iter=5000,random_state=3211,learning_rate=100, perplexity=5) # run t-sne with the various parameters\n",
    "tsne2 = TSNE(random_state=3211,learning_rate=100, perplexity=15) # run t-sne with the various parameters\n",
    "\n",
    "def treaty_data(treaty_type, tsne):\n",
    "    text_data = totadf_emb[totadf_emb.type == str(treaty_type)]\n",
    "    text_data = text_data.reset_index()\n",
    "    nmf_embedding = txt_2_emb(text_data)\n",
    "#     print(text_data['type'].head())\n",
    "    tsne_embedding = create_dataframe(nmf_embedding, tsne, text_data)\n",
    "    return(tsne_embedding)\n",
    "\n",
    "def all_data(tsne):\n",
    "    text_data = totadf_emb\n",
    "    nmf_embedding = txt_2_emb(text_data)\n",
    "    tsne_embedding = create_dataframe(nmf_embedding, tsne, text_data)\n",
    "    return(tsne_embedding)\n",
    "\n",
    "FTA = treaty_data(\"Free Trade Agreement\", tsne1)\n",
    "FTA_ = treaty_data(\"Free Trade Agreement & Economic Integration Agreement\",tsne2)\n",
    "ALL = all_data(tsne1)\n",
    "# CU = treaty_data(\"Customs Union\",tsne)\n",
    "# CU_ = treaty_data(\"Customs Union & Economic Integration Agreement\",tsne)\n",
    "# PSA = treaty_data(\"Partial Scope Agreement\",tsne)\n",
    "# EIA = treaty_data(\"Economic Integration Agreement\",tsne)\n"
   ]
  },
  {
   "cell_type": "code",
   "execution_count": 11,
   "metadata": {},
   "outputs": [],
   "source": [
    "# CU.head()"
   ]
  },
  {
   "cell_type": "code",
   "execution_count": 18,
   "metadata": {},
   "outputs": [
    {
     "data": {
      "application/vnd.jupyter.widget-view+json": {
       "model_id": "f47a62c6bb4142318010ff60b946a392",
       "version_major": 2,
       "version_minor": 0
      },
      "text/plain": [
       "FigureCanvasNbAgg()"
      ]
     },
     "metadata": {},
     "output_type": "display_data"
    },
    {
     "ename": "AttributeError",
     "evalue": "'numpy.ndarray' object has no attribute 'set_title'",
     "output_type": "error",
     "traceback": [
      "\u001b[0;31m---------------------------------------------------------------------------\u001b[0m",
      "\u001b[0;31mAttributeError\u001b[0m                            Traceback (most recent call last)",
      "\u001b[0;32m<ipython-input-18-83418d10a807>\u001b[0m in \u001b[0;36m<module>\u001b[0;34m()\u001b[0m\n\u001b[1;32m     17\u001b[0m \u001b[0max2\u001b[0m \u001b[0;34m=\u001b[0m \u001b[0msns\u001b[0m\u001b[0;34m.\u001b[0m\u001b[0mscatterplot\u001b[0m\u001b[0;34m(\u001b[0m\u001b[0mdata\u001b[0m\u001b[0;34m=\u001b[0m\u001b[0mFTA_\u001b[0m\u001b[0;34m,\u001b[0m\u001b[0mx\u001b[0m\u001b[0;34m=\u001b[0m\u001b[0;34m'x'\u001b[0m\u001b[0;34m,\u001b[0m\u001b[0my\u001b[0m\u001b[0;34m=\u001b[0m\u001b[0;34m'y'\u001b[0m\u001b[0;34m,\u001b[0m\u001b[0ms\u001b[0m\u001b[0;34m=\u001b[0m\u001b[0msize\u001b[0m\u001b[0;34m,\u001b[0m\u001b[0mhue\u001b[0m\u001b[0;34m=\u001b[0m\u001b[0;34m'hue'\u001b[0m\u001b[0;34m,\u001b[0m \u001b[0mpalette\u001b[0m\u001b[0;34m=\u001b[0m\u001b[0;34m'tab20'\u001b[0m\u001b[0;34m,\u001b[0m \u001b[0max\u001b[0m\u001b[0;34m=\u001b[0m\u001b[0maxs\u001b[0m\u001b[0;34m[\u001b[0m\u001b[0;36m1\u001b[0m\u001b[0;34m]\u001b[0m\u001b[0;34m,\u001b[0m \u001b[0mlabel\u001b[0m\u001b[0;34m=\u001b[0m\u001b[0;34m\"Free Trade Agreement & Economic Integration Agreement\"\u001b[0m\u001b[0;34m)\u001b[0m\u001b[0;34m\u001b[0m\u001b[0m\n\u001b[1;32m     18\u001b[0m \u001b[0;34m\u001b[0m\u001b[0m\n\u001b[0;32m---> 19\u001b[0;31m \u001b[0maxs\u001b[0m\u001b[0;34m.\u001b[0m\u001b[0mset_title\u001b[0m\u001b[0;34m(\u001b[0m\u001b[0;34m'Treaties signed until {}'\u001b[0m\u001b[0;34m.\u001b[0m\u001b[0mformat\u001b[0m\u001b[0;34m(\u001b[0m\u001b[0myear\u001b[0m\u001b[0;34m)\u001b[0m\u001b[0;34m,\u001b[0m\u001b[0;34m**\u001b[0m\u001b[0;34m{\u001b[0m\u001b[0;34m'fontsize'\u001b[0m\u001b[0;34m:\u001b[0m\u001b[0;34m'10'\u001b[0m\u001b[0;34m}\u001b[0m\u001b[0;34m)\u001b[0m\u001b[0;34m\u001b[0m\u001b[0m\n\u001b[0m\u001b[1;32m     20\u001b[0m \u001b[0;34m\u001b[0m\u001b[0m\n\u001b[1;32m     21\u001b[0m \u001b[0msns\u001b[0m\u001b[0;34m.\u001b[0m\u001b[0mdespine\u001b[0m\u001b[0;34m(\u001b[0m\u001b[0mleft\u001b[0m\u001b[0;34m=\u001b[0m\u001b[0;32mTrue\u001b[0m\u001b[0;34m,\u001b[0m \u001b[0mbottom\u001b[0m\u001b[0;34m=\u001b[0m\u001b[0;32mTrue\u001b[0m\u001b[0;34m)\u001b[0m\u001b[0;34m\u001b[0m\u001b[0m\n",
      "\u001b[0;31mAttributeError\u001b[0m: 'numpy.ndarray' object has no attribute 'set_title'"
     ]
    }
   ],
   "source": [
    "# color_list = plt.cm.viridis(np.linspace(0, 1, n_topics))\n",
    "\n",
    "# legend_list = []\n",
    "\n",
    "# for i in range(len(topics)):   \n",
    "#     color = color_list[i]\n",
    "#     legend_list.append(mpatches.Ellipse((0, 0), 1, 1, fc=color))\n",
    "sns.set_style(\"white\")\n",
    "fig, axs = plt.subplots(1,2,figsize=(10, 10), facecolor='w', edgecolor='k')\n",
    "fig.subplots_adjust(hspace = .1, wspace=0)\n",
    "\n",
    "# for year, idx in zip([2016], range(1)):\n",
    "\n",
    "#     tsne_embedding.to_csv(\"year_full.csv\", sep=\",\")\n",
    "size = 56\n",
    "ax1 = sns.scatterplot(data=FTA,x='x',y='y',s=size,hue='hue', palette='tab20', ax=axs[0], label=\"Free Trade Agreements\")\n",
    "ax2 = sns.scatterplot(data=FTA_,x='x',y='y',s=size,hue='hue', palette='tab20', ax=axs[1], label=\"Free Trade Agreement & Economic Integration Agreement\")\n",
    "\n",
    "axs.set_title('Treaties signed until {}'.format(year),**{'fontsize':'10'})\n",
    "\n",
    "sns.despine(left=True, bottom=True)\n",
    "ax1.set(yticklabels=[])\n",
    "ax2.set(yticklabels=[])\n",
    "ax1.set(xticklabels=[])\n",
    "ax2.set(xticklabels=[])\n",
    "\n",
    "ax1.set_title(\"Free Trade Agreements\")\n",
    "ax2.set_title(\"Free Trade Agreement & Economic Integration Agreement\")\n",
    "\n",
    "ax1.legend_.remove()\n",
    "ax2.legend_.remove()\n",
    "# fig.legend(legend_list, topics, loc=(0.2,0.89), ncol=5)\n",
    "\n",
    "# plt.savefig('MOCUP.png', format='png', dpi=100, transparent=True)"
   ]
  },
  {
   "cell_type": "code",
   "execution_count": null,
   "metadata": {},
   "outputs": [],
   "source": []
  },
  {
   "cell_type": "code",
   "execution_count": 21,
   "metadata": {},
   "outputs": [
    {
     "data": {
      "application/vnd.jupyter.widget-view+json": {
       "model_id": "0d2d33b876ba421f838a56b03d592ec5",
       "version_major": 2,
       "version_minor": 0
      },
      "text/plain": [
       "FigureCanvasNbAgg()"
      ]
     },
     "metadata": {},
     "output_type": "display_data"
    },
    {
     "data": {
      "text/plain": [
       "Text(0.5, 1.0, 'Free Trade Agreements')"
      ]
     },
     "execution_count": 21,
     "metadata": {},
     "output_type": "execute_result"
    }
   ],
   "source": [
    "sns.set_style(\"white\")\n",
    "fig, axs = plt.subplots(figsize=(10, 10), facecolor='w', edgecolor='k')\n",
    "fig.subplots_adjust(hspace = .1, wspace=0)\n",
    "\n",
    "# for year, idx in zip([2016], range(1)):\n",
    "\n",
    "#     tsne_embedding.to_csv(\"year_full.csv\", sep=\",\")\n",
    "size = 56\n",
    "ax1 = sns.scatterplot(data=ALL,x='x',y='y',s=40, hue='type', palette='Set1', alpha=0.6)\n",
    "\n",
    "def label_point(x, y, val, ax):\n",
    "    a = pd.concat({'x': x, 'y': y, 'val': val}, axis=1)\n",
    "    for i, point in a.iterrows():\n",
    "        ax.text(point['x']+.02, point['y'], str(point['val']))\n",
    "\n",
    "label_point(ALL.x, ALL.y, ALL.region, plt.gca())\n",
    "\n",
    "sns.despine(left=True, bottom=True)\n",
    "ax1.set(yticklabels=[])\n",
    "ax1.set(xticklabels=[])\n",
    "ax1.set_title(\"Free Trade Agreements\")\n",
    "\n",
    "\n",
    "\n",
    "# plt.savefig('MOCUP2.png', format='png', dpi=100, transparent=True)"
   ]
  },
  {
   "cell_type": "code",
   "execution_count": 196,
   "metadata": {},
   "outputs": [],
   "source": []
  },
  {
   "cell_type": "code",
   "execution_count": 197,
   "metadata": {},
   "outputs": [
    {
     "data": {
      "text/html": [
       "<div>\n",
       "<style scoped>\n",
       "    .dataframe tbody tr th:only-of-type {\n",
       "        vertical-align: middle;\n",
       "    }\n",
       "\n",
       "    .dataframe tbody tr th {\n",
       "        vertical-align: top;\n",
       "    }\n",
       "\n",
       "    .dataframe thead th {\n",
       "        text-align: right;\n",
       "    }\n",
       "</style>\n",
       "<table border=\"1\" class=\"dataframe\">\n",
       "  <thead>\n",
       "    <tr style=\"text-align: right;\">\n",
       "      <th></th>\n",
       "      <th>x</th>\n",
       "      <th>y</th>\n",
       "      <th>hue</th>\n",
       "      <th>year</th>\n",
       "    </tr>\n",
       "  </thead>\n",
       "  <tbody>\n",
       "    <tr>\n",
       "      <th>0</th>\n",
       "      <td>5.248753</td>\n",
       "      <td>-14.089790</td>\n",
       "      <td>9</td>\n",
       "      <td>2007.0</td>\n",
       "    </tr>\n",
       "    <tr>\n",
       "      <th>1</th>\n",
       "      <td>1.545438</td>\n",
       "      <td>10.078738</td>\n",
       "      <td>4</td>\n",
       "      <td>2005.0</td>\n",
       "    </tr>\n",
       "    <tr>\n",
       "      <th>2</th>\n",
       "      <td>0.032933</td>\n",
       "      <td>-14.201297</td>\n",
       "      <td>0</td>\n",
       "      <td>2007.0</td>\n",
       "    </tr>\n",
       "    <tr>\n",
       "      <th>3</th>\n",
       "      <td>-2.382143</td>\n",
       "      <td>-2.954867</td>\n",
       "      <td>17</td>\n",
       "      <td>2006.0</td>\n",
       "    </tr>\n",
       "    <tr>\n",
       "      <th>4</th>\n",
       "      <td>2.006824</td>\n",
       "      <td>12.395350</td>\n",
       "      <td>11</td>\n",
       "      <td>2007.0</td>\n",
       "    </tr>\n",
       "  </tbody>\n",
       "</table>\n",
       "</div>"
      ],
      "text/plain": [
       "          x          y  hue    year\n",
       "0  5.248753 -14.089790    9  2007.0\n",
       "1  1.545438  10.078738    4  2005.0\n",
       "2  0.032933 -14.201297    0  2007.0\n",
       "3 -2.382143  -2.954867   17  2006.0\n",
       "4  2.006824  12.395350   11  2007.0"
      ]
     },
     "execution_count": 197,
     "metadata": {},
     "output_type": "execute_result"
    }
   ],
   "source": [
    "# tsne_embedding.head()"
   ]
  },
  {
   "cell_type": "code",
   "execution_count": 202,
   "metadata": {},
   "outputs": [],
   "source": []
  },
  {
   "cell_type": "code",
   "execution_count": 203,
   "metadata": {},
   "outputs": [],
   "source": [
    "# tsne_embedding.loc[(tsne_embedding['hue'] == 0)]"
   ]
  },
  {
   "cell_type": "code",
   "execution_count": 204,
   "metadata": {},
   "outputs": [
    {
     "data": {
      "image/png": "[encoded data removed]",
      "text/plain": [
       "<Figure size 1008x1080 with 1 Axes>"
      ]
     },
     "metadata": {},
     "output_type": "display_data"
    }
   ],
   "source": []
  },
  {
   "cell_type": "code",
   "execution_count": 163,
   "metadata": {},
   "outputs": [
    {
     "data": {
      "image/png": "[encoded data removed]",
      "text/plain": [
       "<Figure size 1008x1080 with 8 Axes>"
      ]
     },
     "metadata": {},
     "output_type": "display_data"
    }
   ],
   "source": [
    "fig, axs = plt.subplots(ncols=2,nrows=4,figsize=(14, 15), facecolor='w', edgecolor='k')\n",
    "fig.subplots_adjust(hspace = .1, wspace=0)\n",
    "\n",
    "axs = axs.ravel()\n",
    "\n",
    "for year, idx in zip([1990,1995,2000,2005,2010,2016], range(8)):\n",
    "    data = tsne_embedding.loc[(totadf_emb['year_signed']<=year) &(tsne_embedding['hue'] == 0)]\n",
    "    scatter = axs[idx].scatter(data=data,x='x',y='y',s=9,c=data['hue'], cmap='Set3')\n",
    "    axs[idx].set_title('Treaties signed until {}'.format(year),**{'fontsize':'11'})\n",
    "    axs[idx].axis('off')\n",
    "\n",
    "plt.suptitle(\"Trade Agreements Clustered by Topic\",**{'fontsize':'14','weight':'bold'}, alpha=0.5)\n",
    "plt.figtext(.51,0.95,'Unsupervised topic modeling with NMF based on textual content + 2D-embedding with t-SNE:', **{'fontsize':'10','weight':'light'}, ha='center')\n",
    "\n",
    "\n",
    "fig.legend(legend_list, topics, loc=(0.2,0.89), ncol=5)\n",
    "plt.subplots_adjust(top=0.85)\n",
    "\n",
    "# plt.savefig('ToTa.png', format='png', dpi=1000)"
   ]
  },
  {
   "cell_type": "code",
   "execution_count": null,
   "metadata": {},
   "outputs": [],
   "source": []
  },
  {
   "cell_type": "code",
   "execution_count": null,
   "metadata": {},
   "outputs": [],
   "source": []
  }
 ],
 "metadata": {
  "kernelspec": {
   "display_name": "Python 3",
   "language": "python",
   "name": "python3"
  },
  "language_info": {
   "codemirror_mode": {
    "name": "ipython",
    "version": 3
   },
   "file_extension": ".py",
   "mimetype": "text/x-python",
   "name": "python",
   "nbconvert_exporter": "python",
   "pygments_lexer": "ipython3",
   "version": "3.6.5"
  }
 },
 "nbformat": 4,
 "nbformat_minor": 2
}
