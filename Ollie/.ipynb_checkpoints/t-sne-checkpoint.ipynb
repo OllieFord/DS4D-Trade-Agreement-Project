{
 "cells": [
  {
   "cell_type": "code",
   "execution_count": 1,
   "metadata": {},
   "outputs": [],
   "source": [
    "import pandas as pd\n",
    "import numpy as np\n",
    "from sklearn.manifold import TSNE\n",
    "from sklearn.feature_extraction.text import TfidfVectorizer\n",
    "from sklearn.decomposition import NMF\n",
    "import random\n",
    "random.seed(13)\n",
    "\n",
    "#visualisation stuff\n",
    "import matplotlib.pyplot as plt\n",
    "import matplotlib.patches as mpatches\n",
    "import matplotlib\n",
    "%matplotlib inline\n",
    "import seaborn as sns\n",
    "from utils import Data_load_utils\n",
    "import os\n",
    "import xml.etree.ElementTree as et"
   ]
  },
  {
   "cell_type": "code",
   "execution_count": 2,
   "metadata": {},
   "outputs": [],
   "source": [
    "# Load data \n",
    "PATH = \"../DS4D-Trade-Agreement-Project/xml/\"\n",
    "extension = \".xml\"\n",
    "\n",
    "files = Data_load_utils.load_order(PATH, extension)"
   ]
  },
  {
   "cell_type": "code",
   "execution_count": 3,
   "metadata": {},
   "outputs": [],
   "source": [
    "def xml2list_text(file):\n",
    "    \"\"\"\n",
    "    Custom function for parsing and outputing the data into arrays.\n",
    "    Returns two array's the extracted column names and content for each column.\n",
    "    \"\"\"\n",
    "\n",
    "    parsed_xml = et.parse(file)\n",
    "    root = parsed_xml.getroot()\n",
    "    chapters = []\n",
    "    article_store = []\n",
    "    \n",
    "    treaty_text = ''\n",
    "    \n",
    "    for item in root[1]:\n",
    "        chapter_name = item.attrib.get('name')\n",
    "#         print(\"chapter: \" + item.attrib.get('name'))\n",
    "        chapters.append(chapter_name)\n",
    "        if chapter_name == None:\n",
    "            continue\n",
    "        treaty_text += chapter_name + \"\\n\"\n",
    "        \n",
    "        articles = item.findall(\"article\")\n",
    "        for article in articles:\n",
    "#             print(article.attrib.get('name'))\n",
    "            art_no = article.attrib.get('number')\n",
    "            art_text =  article.text\n",
    "            article_store.append(art_no)\n",
    "            if art_no == None:\n",
    "                continue\n",
    "#             print(art_no)\n",
    "            treaty_text += art_no + \"\\n\"\n",
    "            treaty_text += art_text + \"\\n\"\n",
    "        \n",
    "            \n",
    "    return len(chapters), len(article_store), treaty_text"
   ]
  },
  {
   "cell_type": "code",
   "execution_count": 4,
   "metadata": {},
   "outputs": [],
   "source": [
    "chapter_no, article_no, text = xml2list_text(PATH + files[2])\n"
   ]
  },
  {
   "cell_type": "code",
   "execution_count": 5,
   "metadata": {},
   "outputs": [],
   "source": [
    "textdf = pd.DataFrame()\n",
    "\n",
    "chapter_numbers = []\n",
    "article_numbers = []\n",
    "treaty_text = []\n",
    "\n",
    "for i in range(0, len(files)):\n",
    "    chapter_no, article_no, text = xml2list_text(PATH + files[i])\n",
    "    chapter_numbers.append(chapter_no)\n",
    "    article_numbers.append(article_no)\n",
    "    treaty_text.append(text)\n",
    "\n",
    "textdf[\"chapter_number\"] = chapter_numbers\n",
    "textdf[\"article_number\"] = article_numbers\n",
    "textdf[\"treaty_text\"] = treaty_text\n"
   ]
  },
  {
   "cell_type": "code",
   "execution_count": 6,
   "metadata": {},
   "outputs": [],
   "source": [
    "dfcols, null = Data_load_utils.xml2list(PATH + files[3])\n",
    "totadf = pd.DataFrame(columns=dfcols)\n",
    "\n",
    "for i in range(0, len(files)):\n",
    "    dfcolstmp, datatmp = Data_load_utils.xml2list(PATH + files[i])\n",
    "    tmp_df = pd.DataFrame([datatmp], columns=dfcolstmp)\n",
    "    tmp_df = tmp_df.loc[:,~tmp_df.columns.duplicated()] #very important! removes duplicate columns note that it removes the multiple \"source\" columnsns\n",
    "    totadf = totadf.loc[:,~totadf.columns.duplicated()]#very important! removes duplicate columns note that it removes the multiple \"source\" columnsns \n",
    "    totadf = pd.concat([totadf,tmp_df], axis=0, sort=False)\n",
    "totadf = totadf.reset_index(drop=True)\n",
    "totadf = pd.concat([totadf, textdf], axis=1)"
   ]
  },
  {
   "cell_type": "code",
   "execution_count": 7,
   "metadata": {},
   "outputs": [],
   "source": [
    "totadf['year_signed'] = totadf.date_signed.map( lambda x: pd.to_datetime(x).year)"
   ]
  },
  {
   "cell_type": "code",
   "execution_count": 8,
   "metadata": {},
   "outputs": [
    {
     "data": {
      "text/plain": [
       "array(['en'], dtype=object)"
      ]
     },
     "execution_count": 8,
     "metadata": {},
     "output_type": "execute_result"
    }
   ],
   "source": [
    "totadf = totadf[totadf.language == 'en']\n",
    "totadf['language'].unique()"
   ]
  },
  {
   "cell_type": "code",
   "execution_count": 9,
   "metadata": {},
   "outputs": [],
   "source": [
    "totadf = totadf.drop(['name', 'wto_rta_id', 'status', 'notification', 'date_signed', 'date_into_force', 'end_implementation', 'parties', 'type', 'parties_original','date_inactive','date_notification', 'composition', 'region', 'parties_wto', 'crossregional', 'related_agreement_wto_id', 'language', 'source'], axis=1)"
   ]
  },
  {
   "cell_type": "code",
   "execution_count": 10,
   "metadata": {},
   "outputs": [
    {
     "data": {
      "text/html": [
       "<div>\n",
       "<style scoped>\n",
       "    .dataframe tbody tr th:only-of-type {\n",
       "        vertical-align: middle;\n",
       "    }\n",
       "\n",
       "    .dataframe tbody tr th {\n",
       "        vertical-align: top;\n",
       "    }\n",
       "\n",
       "    .dataframe thead th {\n",
       "        text-align: right;\n",
       "    }\n",
       "</style>\n",
       "<table border=\"1\" class=\"dataframe\">\n",
       "  <thead>\n",
       "    <tr style=\"text-align: right;\">\n",
       "      <th></th>\n",
       "      <th>index</th>\n",
       "      <th>treaty_identifier</th>\n",
       "      <th>chapter_number</th>\n",
       "      <th>article_number</th>\n",
       "      <th>treaty_text</th>\n",
       "      <th>year_signed</th>\n",
       "    </tr>\n",
       "  </thead>\n",
       "  <tbody>\n",
       "    <tr>\n",
       "      <th>0</th>\n",
       "      <td>0</td>\n",
       "      <td>1</td>\n",
       "      <td>17</td>\n",
       "      <td>175</td>\n",
       "      <td>Preamble\\nGeneral Provisions\\nARTICLE 1\\nThe o...</td>\n",
       "      <td>2007</td>\n",
       "    </tr>\n",
       "    <tr>\n",
       "      <th>1</th>\n",
       "      <td>1</td>\n",
       "      <td>2</td>\n",
       "      <td>8</td>\n",
       "      <td>40</td>\n",
       "      <td>Preamble\\nARTICLE 1\\nThe Parties shall gradual...</td>\n",
       "      <td>2005</td>\n",
       "    </tr>\n",
       "    <tr>\n",
       "      <th>2</th>\n",
       "      <td>2</td>\n",
       "      <td>3</td>\n",
       "      <td>21</td>\n",
       "      <td>201</td>\n",
       "      <td>Preamble\\nGeneral Provisions\\nARTICLE 1\\nThe P...</td>\n",
       "      <td>2007</td>\n",
       "    </tr>\n",
       "    <tr>\n",
       "      <th>3</th>\n",
       "      <td>3</td>\n",
       "      <td>4</td>\n",
       "      <td>3</td>\n",
       "      <td>0</td>\n",
       "      <td></td>\n",
       "      <td>2006</td>\n",
       "    </tr>\n",
       "    <tr>\n",
       "      <th>4</th>\n",
       "      <td>4</td>\n",
       "      <td>5</td>\n",
       "      <td>11</td>\n",
       "      <td>52</td>\n",
       "      <td>Preamble\\nGeneral Provisions\\nARTICLE 1\\n1. Eg...</td>\n",
       "      <td>2007</td>\n",
       "    </tr>\n",
       "  </tbody>\n",
       "</table>\n",
       "</div>"
      ],
      "text/plain": [
       "   index treaty_identifier  chapter_number  article_number  \\\n",
       "0      0                 1              17             175   \n",
       "1      1                 2               8              40   \n",
       "2      2                 3              21             201   \n",
       "3      3                 4               3               0   \n",
       "4      4                 5              11              52   \n",
       "\n",
       "                                         treaty_text  year_signed  \n",
       "0  Preamble\\nGeneral Provisions\\nARTICLE 1\\nThe o...         2007  \n",
       "1  Preamble\\nARTICLE 1\\nThe Parties shall gradual...         2005  \n",
       "2  Preamble\\nGeneral Provisions\\nARTICLE 1\\nThe P...         2007  \n",
       "3                                                            2006  \n",
       "4  Preamble\\nGeneral Provisions\\nARTICLE 1\\n1. Eg...         2007  "
      ]
     },
     "execution_count": 10,
     "metadata": {},
     "output_type": "execute_result"
    }
   ],
   "source": [
    "totadf = totadf.reset_index()\n",
    "totadf.head()"
   ]
  },
  {
   "cell_type": "code",
   "execution_count": 23,
   "metadata": {},
   "outputs": [
    {
     "name": "stdout",
     "output_type": "stream",
     "text": [
      "Topics found via NMF:\n",
      "\n",
      "Topic #0:\n",
      "shall agreement article parties party measures trade committee joint products provisions duties accordance force customs conditions imports paragraph date concerned apply appropriate effect entry consultations having referred equivalent agricultural request applied restrictions wto necessary originating particular goods difficulties laid undertakings rules 1994 information introduced implementation protection practice international rights gatt annex respective situation product turkey agreements public intellectual including property procedure considers state quantitative efta charges subject taken abolished exports period provided payments ensure taking procedures related articles relating protocol purpose duty obligations general internal aid view set chapter economic operation safeguard following conformity industrial application basic thereof enter cause\n",
      "\n",
      "Topic #1:\n",
      "party shall article good parties agreement chapter service services goods means territory information paragraph tribunal measure panel including request provided person procedures provide authority suppliers arbitral trade non customs investment supplier disputing financial laws arbitration annex investor dispute days 10 treatment accordance measures purposes entity respect persons referred origin rights pursuant public regulations law originating use international used time enterprise apply value date procurement include telecommunications application does procuring technical materials set agree producer relevant period cooperation requirements subject ensure report reasonable government authorities subparagraph related matter obligations specific production domestic assessment conformity exporter settlement certificate unless electronic ruling wto\n",
      "\n",
      "Topic #2:\n",
      "community shall council article association cooperation agreement european products member economic provisions force entry companies states measures republic duties development referred nationals apply treaty particular training financial rules paragraph information hand customs duty title years following originating imports listed necessary turkey accordance respect annex end programmes account establishment arrangements basic protocol transport establishing provided applied reduced dialogue members laid appropriate services areas policy established respectively conditions regards year assistance treatment set regional date general applicable company activities territory sector industrial social capital taking application energy union promote public contracting common management including decisions subject use effect discrimination movement decision cultural\n",
      "\n",
      "Topic #3:\n",
      "contracting parties council treaty commission article shall party conditions measures rules republic duties procedure forth present concerned property products situation economic export central necessary laid european hand encourage employed enable education employment economy effectively efficient effects emergency elimination eliminated effective eliminate electronic efta efforts effect years end environment eu establishment establishing established establish essential equivalent equitable equipment equal environmental entry endeavor entity entities enterprises enterprise enter ensuring ensure enhance engaged energy endeavour enforcement domestic ec duty description described deny delivery delay definitions defined deemed declaration decisions decision decide days day date data damages damage customs current currency cultural cross criteria\n",
      "\n",
      "Topic #4:\n",
      "states member shall article state council treaty common acp goods trade customs countries secretariat economic development market commission convention signatory union policies provisions foreign integration associated national ec tariff country protocol regulations international provided services general means central institutions undertake necessary ratification court order accordance secretary regional adopt duties implementation association treatment taxes technical area transport agreements members objectives application management operation non respect legislation import territory time efta governments agree determined annex functions establish activities similar capital projects policy financial local facilitate decisions scientific set specific period subject industrial instruments ensure terms control following special establishment bodies production rules\n",
      "\n"
     ]
    }
   ],
   "source": [
    "# Parameters that I tweaked - could probably spend a whole week trying to find the best combination - but this selection seems to work just fine\n",
    "n_features = 1000\n",
    "n_topics = 5\n",
    "n_top_words = 100\n",
    "\n",
    "\n",
    "def print_top_words(model, feature_names, n_top_words):\n",
    "    for topic_idx, topic in enumerate(model.components_):\n",
    "        print(\"\\nTopic #%d:\" % topic_idx)\n",
    "        print(\" \".join([feature_names[i]\n",
    "                        for i in topic.argsort()[:-n_top_words - 1:-1]]))\n",
    "    print()\n",
    "#I convert a collection of raw documents into a matrix of TF-IDF features\n",
    "tfidf_vectorizer = TfidfVectorizer(max_df=0.95, min_df=2,max_features=n_features,stop_words='english')\n",
    "#retearns a term-document matrix\n",
    "tfidf = tfidf_vectorizer.fit_transform(totadf['treaty_text'])\n",
    "# This is where the non negative matrix factorization happens - in short it is a form of dimensionality reduction\n",
    "nmf = NMF(n_components=n_topics, random_state=0,alpha=.1, l1_ratio=.5).fit(tfidf)\n",
    "\n",
    "print(\"Topics found via NMF:\")\n",
    "# need to print the works most related to the seperate topics - quite difficult to differentiate by hand. \n",
    "tfidf_feature_names = tfidf_vectorizer.get_feature_names()\n",
    "print_top_words(nmf, tfidf_feature_names, n_top_words)"
   ]
  },
  {
   "cell_type": "code",
   "execution_count": 24,
   "metadata": {},
   "outputs": [],
   "source": [
    "nmf_embedding = nmf.transform(tfidf)\n",
    "nmf_embedding = (nmf_embedding - nmf_embedding.mean(axis=0))/nmf_embedding.std(axis=0)"
   ]
  },
  {
   "cell_type": "code",
   "execution_count": 25,
   "metadata": {},
   "outputs": [
    {
     "name": "stdout",
     "output_type": "stream",
     "text": [
      "\n",
      "Topic 0:\n",
      "304\n",
      "292\n",
      "295\n",
      "\n",
      "Topic 1:\n",
      "342\n",
      "144\n",
      "387\n",
      "\n",
      "Topic 2:\n",
      "231\n",
      "235\n",
      "220\n",
      "\n",
      "Topic 3:\n",
      "195\n",
      "177\n",
      "256\n",
      "\n",
      "Topic 4:\n",
      "15\n",
      "267\n",
      "440\n"
     ]
    }
   ],
   "source": [
    "# return the most representative documents for the different topics (they are classified by their treaty identifier)\n",
    "top_idx = np.argsort(nmf_embedding, axis=0)[-3:]\n",
    "\n",
    "count = 0\n",
    "for idxs in top_idx.T:\n",
    "    print(\"\\nTopic {}:\".format(count))\n",
    "    for idx in idxs:\n",
    "        print(totadf.iloc[idx]['treaty_identifier'])\n",
    "    count += 1"
   ]
  },
  {
   "cell_type": "code",
   "execution_count": 26,
   "metadata": {},
   "outputs": [],
   "source": [
    "topics = ['Agriculture', 'Investment / Finance', 'Cooperation', 'Electronic', 'tarifs'] #these are hand coded topics and probably do not represent the actual topics "
   ]
  },
  {
   "cell_type": "code",
   "execution_count": 27,
   "metadata": {},
   "outputs": [],
   "source": [
    "# here I use tsne to visualize the high dimensional data created by the nmf.\n",
    "tsne = TSNE(random_state=3211)\n",
    "tsne_embedding = tsne.fit_transform(nmf_embedding)\n",
    "tsne_embedding = pd.DataFrame(tsne_embedding,columns=['x','y'])\n",
    "tsne_embedding['hue'] = nmf_embedding.argmax(axis=1)\n",
    "tsne_embedding['year'] = totadf['year_signed']"
   ]
  },
  {
   "cell_type": "code",
   "execution_count": 37,
   "metadata": {},
   "outputs": [],
   "source": [
    "colors = np.array([[ 0.89411765,  0.10196079,  0.10980392,  1. ],\n",
    " [ 0.22685121,  0.51898501,  0.66574396,  1. ],\n",
    " [ 0.38731259,  0.57588621,  0.39148022,  1. ],\n",
    " [ 0.7655671 ,  0.38651289,  0.37099578,  1. ],\n",
    " [ 1.        ,  0.78937332,  0.11607843,  1. ],\n",
    " [ 0.75226453,  0.52958094,  0.16938101,  1. ],\n",
    " [ 0.92752019,  0.48406   ,  0.67238756,  1. ],\n",
    " [ 0.60000002,  0.60000002,  0.60000002,  1. ]])\n",
    "\n",
    "legend_list = []\n",
    "\n",
    "for i in range(len(topics)):   \n",
    "    color = colors[i]\n",
    "    legend_list.append(mpatches.Ellipse((0, 0), 1, 1, fc=color))"
   ]
  },
  {
   "cell_type": "code",
   "execution_count": 49,
   "metadata": {},
   "outputs": [
    {
     "data": {
      "image/png": "[encoded data removed]",
      "text/plain": [
       "<Figure size 1440x1296 with 1 Axes>"
      ]
     },
     "metadata": {},
     "output_type": "display_data"
    }
   ],
   "source": [
    "matplotlib.rc('font',family='monospace')\n",
    "plt.style.use('ggplot')\n",
    "\n",
    "fig, axs = plt.subplots(figsize=(20, 18), facecolor='w', edgecolor='k')\n",
    "fig.subplots_adjust(hspace = .1, wspace=0)\n",
    "\n",
    "# axs = axs.ravel()\n",
    "\n",
    "count = 0\n",
    "legend = []\n",
    "for year, idx in zip([2016], range(1)):\n",
    "    data = tsne_embedding[totadf['year_signed']<=year]\n",
    "#     totadf.to_csv(year.csv, sep=\",\")\n",
    "#     print(data)\n",
    "    scatter = axs.scatter(data=data,x='x',y='y',s=6,c=data['hue'],cmap=\"Set1\")\n",
    "    axs.set_title('Treaties signed until {}'.format(year),**{'fontsize':'10'})\n",
    "    axs.axis('off')\n",
    "\n",
    "plt.suptitle(\"Trade Agreements Clustered by Topic\",**{'fontsize':'14','weight':'bold'})\n",
    "plt.figtext(.51,0.95,'Unsupervised topic modeling with NMF based on textual content + 2D-embedding with t-SNE:', **{'fontsize':'10','weight':'light'}, ha='center')\n",
    "\n",
    "\n",
    "fig.legend(legend_list,topics,loc=(0.1,0.89),ncol=3)\n",
    "plt.subplots_adjust(top=0.85)\n",
    "\n",
    "plt.savefig('ToTa_single.png', format='png', dpi=1000)"
   ]
  },
  {
   "cell_type": "code",
   "execution_count": null,
   "metadata": {},
   "outputs": [],
   "source": []
  }
 ],
 "metadata": {
  "kernelspec": {
   "display_name": "Python 3",
   "language": "python",
   "name": "python3"
  },
  "language_info": {
   "codemirror_mode": {
    "name": "ipython",
    "version": 3
   },
   "file_extension": ".py",
   "mimetype": "text/x-python",
   "name": "python",
   "nbconvert_exporter": "python",
   "pygments_lexer": "ipython3",
   "version": "3.6.5"
  }
 },
 "nbformat": 4,
 "nbformat_minor": 2
}
