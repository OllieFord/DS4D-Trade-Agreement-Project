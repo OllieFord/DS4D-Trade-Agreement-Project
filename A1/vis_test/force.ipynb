{
 "cells": [
  {
   "cell_type": "code",
   "execution_count": 1,
   "metadata": {
    "collapsed": false
   },
   "outputs": [],
   "source": [
    "%matplotlib inline"
   ]
  },
  {
   "cell_type": "markdown",
   "metadata": {},
   "source": [
    "\n",
    "# Javascript\n",
    "\n",
    "\n",
    "Example of writing JSON format graph data and using the D3 Javascript library to produce an HTML/Javascript drawing.\n",
    "\n"
   ]
  },
  {
   "cell_type": "code",
   "execution_count": 8,
   "metadata": {},
   "outputs": [],
   "source": [
    "import json\n",
    "import flask\n",
    "import networkx as nx\n",
    "from networkx.readwrite import json_graph"
   ]
  },
  {
   "cell_type": "code",
   "execution_count": 9,
   "metadata": {},
   "outputs": [],
   "source": [
    "G = nx.barbell_graph(6, 3)\n",
    "# this d3 example uses the name attribute for the mouse-hover value,\n",
    "# so add a name to each node\n",
    "for n in G:\n",
    "    G.nodes[n]['name'] = n\n",
    "# write json formatted data\n",
    "d = json_graph.node_link_data(G)  # node-link format to serialize"
   ]
  },
  {
   "cell_type": "code",
   "execution_count": 10,
   "metadata": {},
   "outputs": [
    {
     "name": "stdout",
     "output_type": "stream",
     "text": [
      "Wrote node-link JSON data to force/force.json\n"
     ]
    }
   ],
   "source": [
    "# write json\n",
    "json.dump(d, open('force/force.json', 'w'))\n",
    "print('Wrote node-link JSON data to force/force.json')"
   ]
  },
  {
   "cell_type": "code",
   "execution_count": 7,
   "metadata": {},
   "outputs": [
    {
     "data": {
      "text/plain": [
       "{'directed': False,\n",
       " 'multigraph': False,\n",
       " 'graph': {},\n",
       " 'nodes': [{'name': 0, 'id': 0},\n",
       "  {'name': 1, 'id': 1},\n",
       "  {'name': 2, 'id': 2},\n",
       "  {'name': 3, 'id': 3},\n",
       "  {'name': 4, 'id': 4},\n",
       "  {'name': 5, 'id': 5},\n",
       "  {'name': 6, 'id': 6},\n",
       "  {'name': 7, 'id': 7},\n",
       "  {'name': 8, 'id': 8},\n",
       "  {'name': 9, 'id': 9},\n",
       "  {'name': 10, 'id': 10},\n",
       "  {'name': 11, 'id': 11},\n",
       "  {'name': 12, 'id': 12},\n",
       "  {'name': 13, 'id': 13},\n",
       "  {'name': 14, 'id': 14}],\n",
       " 'links': [{'source': 0, 'target': 1},\n",
       "  {'source': 0, 'target': 2},\n",
       "  {'source': 0, 'target': 3},\n",
       "  {'source': 0, 'target': 4},\n",
       "  {'source': 0, 'target': 5},\n",
       "  {'source': 1, 'target': 2},\n",
       "  {'source': 1, 'target': 3},\n",
       "  {'source': 1, 'target': 4},\n",
       "  {'source': 1, 'target': 5},\n",
       "  {'source': 2, 'target': 3},\n",
       "  {'source': 2, 'target': 4},\n",
       "  {'source': 2, 'target': 5},\n",
       "  {'source': 3, 'target': 4},\n",
       "  {'source': 3, 'target': 5},\n",
       "  {'source': 4, 'target': 5},\n",
       "  {'source': 5, 'target': 6},\n",
       "  {'source': 6, 'target': 7},\n",
       "  {'source': 7, 'target': 8},\n",
       "  {'source': 8, 'target': 9},\n",
       "  {'source': 9, 'target': 10},\n",
       "  {'source': 9, 'target': 11},\n",
       "  {'source': 9, 'target': 12},\n",
       "  {'source': 9, 'target': 13},\n",
       "  {'source': 9, 'target': 14},\n",
       "  {'source': 10, 'target': 11},\n",
       "  {'source': 10, 'target': 12},\n",
       "  {'source': 10, 'target': 13},\n",
       "  {'source': 10, 'target': 14},\n",
       "  {'source': 11, 'target': 12},\n",
       "  {'source': 11, 'target': 13},\n",
       "  {'source': 11, 'target': 14},\n",
       "  {'source': 12, 'target': 13},\n",
       "  {'source': 12, 'target': 14},\n",
       "  {'source': 13, 'target': 14}]}"
      ]
     },
     "execution_count": 7,
     "metadata": {},
     "output_type": "execute_result"
    }
   ],
   "source": [
    "d"
   ]
  },
  {
   "cell_type": "code",
   "execution_count": null,
   "metadata": {
    "collapsed": false
   },
   "outputs": [
    {
     "name": "stdout",
     "output_type": "stream",
     "text": [
      "\n",
      "Go to http://localhost:8000/force.html to see the example\n",
      "\n",
      " * Serving Flask app \"__main__\" (lazy loading)\n",
      " * Environment: production\n",
      "   WARNING: Do not use the development server in a production environment.\n",
      "   Use a production WSGI server instead.\n",
      " * Debug mode: off\n"
     ]
    },
    {
     "name": "stderr",
     "output_type": "stream",
     "text": [
      " * Running on http://127.0.0.1:8000/ (Press CTRL+C to quit)\n",
      "127.0.0.1 - - [28/Nov/2018 18:23:50] \"GET /DS4D/DS4D-Trade-Agreement-Project/A1/ HTTP/1.1\" 404 -\n",
      "127.0.0.1 - - [28/Nov/2018 18:23:52] \"GET /DS4D/DS4D-Trade-Agreement-Project/A1/vis_test/ HTTP/1.1\" 404 -\n",
      "127.0.0.1 - - [28/Nov/2018 18:23:53] \"GET /DS4D/DS4D-Trade-Agreement-Project/A1/ HTTP/1.1\" 404 -\n",
      "127.0.0.1 - - [28/Nov/2018 18:23:57] \"GET / HTTP/1.1\" 404 -\n",
      "127.0.0.1 - - [28/Nov/2018 18:24:08] \"GET /force.html HTTP/1.1\" 404 -\n",
      "127.0.0.1 - - [28/Nov/2018 18:24:18] \"GET / HTTP/1.1\" 404 -\n",
      "127.0.0.1 - - [28/Nov/2018 18:24:39] \"GET / HTTP/1.1\" 404 -\n",
      "127.0.0.1 - - [28/Nov/2018 18:24:41] \"GET / HTTP/1.1\" 404 -\n",
      "127.0.0.1 - - [28/Nov/2018 18:24:41] \"GET /favicon.ico HTTP/1.1\" 404 -\n",
      "127.0.0.1 - - [28/Nov/2018 18:24:48] \"GET / HTTP/1.1\" 404 -\n"
     ]
    }
   ],
   "source": [
    "# Serve the file over http to allow for cross origin requests\n",
    "app = flask.Flask(__name__, static_folder=\"force\")\n",
    "\n",
    "@app.route('/<path:path>')\n",
    "def static_proxy(path):\n",
    "    return app.send_static_file(path)\n",
    "\n",
    "print('\\nGo to http://localhost:8000/force.html to see the example\\n')\n",
    "app.run(port=8000)"
   ]
  },
  {
   "cell_type": "code",
   "execution_count": null,
   "metadata": {},
   "outputs": [],
   "source": []
  }
 ],
 "metadata": {
  "kernelspec": {
   "display_name": "Python 3",
   "language": "python",
   "name": "python3"
  },
  "language_info": {
   "codemirror_mode": {
    "name": "ipython",
    "version": 3
   },
   "file_extension": ".py",
   "mimetype": "text/x-python",
   "name": "python",
   "nbconvert_exporter": "python",
   "pygments_lexer": "ipython3",
   "version": "3.6.6"
  }
 },
 "nbformat": 4,
 "nbformat_minor": 2
}
