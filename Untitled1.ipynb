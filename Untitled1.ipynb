{
 "cells": [
  {
   "cell_type": "markdown",
   "metadata": {},
   "source": [
    "#dicts with weird keys idea comes from https://www.oreilly.com/library/view/python-cookbook/0596001673/ch01s06.html"
   ]
  },
  {
   "cell_type": "code",
   "execution_count": null,
   "metadata": {},
   "outputs": [],
   "source": [
    "#Create empty dataframe where everything \n",
    "df = pd.DataFrame()\n",
    "\n",
    "# List of things we are looking for in every file's metadata\n",
    "cols = [\"name\", \"status\", \"date_signed\", \"date_into_force\", \"date_notification\", \"end_implementation\", \"date_inactive\", \"parties_original\", \"composition\", \"region\", \"parties_wto\", \"crossregional\", \"language\"]\n",
    "\n",
    "#Iterate over every file\n",
    "for file in os.listdir(directory):\n",
    "    filename = os.fsdecode(file)\n",
    "    tree = ET.parse(directory_in_str + filename)\n",
    "    root = tree.getroot()\n",
    "    print(filename)\n",
    "    for item in root[0].iter(): # iterate over all elements in <meta>\n",
    "        c = 0 #init counter\n",
    "        for x in cols: # for every item in list of things\n",
    "            if item.tag == cols[c]: #if current item matches tag name\n",
    "                if cols[c] == \"parties_original\" or \"parties\": \n",
    "                    for y in item:\n",
    "                        print(f\"{y.tag}: {y.text}\")\n",
    "                    print(f\"{item.tag}: {item.text}\") #print contents of thing\n",
    "            c += 1\n",
    "    print(\"\\n\")"
   ]
  },
  {
   "cell_type": "code",
   "execution_count": null,
   "metadata": {},
   "outputs": [],
   "source": [
    "#test with file only\n",
    "tree = ET.parse(\"xml/pta_1.xml\")\n",
    "root = tree.getroot()\n",
    "\n",
    "cols = [\"name\", \"status\", \"date_signed\", \"date_into_force\", \"date_notification\", \"end_implementation\", \"partyisocode\", \"composition\", \"region\", \"parties_wto\", \"crossregional\", \"language\"]\n",
    "df = pd.DataFrame() #temporal data frame\n",
    "data = pd.DataFrame() #final dataframe\n",
    "\n",
    "filename = \"pta_1.xml\"\n",
    "meta_dict = {} # Create empty dict to store xml file metadata\n",
    "for item in root[0].iter(): # iterate over all elements where [0]=<meta> in tree structure \n",
    "    meta_dict.setdefault(item.tag, []).append(item.text) # Set tag as key and contents(text) as value, then append to dict, allowing duplications \n",
    "    x = pd.Series(meta_dict) # create series from dict\n",
    "    target = pd.Series()\n",
    "    for item in x.keys():\n",
    "        if x[item][0] is None:\n",
    "            s = pd.Series({item: \"\"}) #select only the first item of list with one item\n",
    "            target = target.append(s) # and append to target series\n",
    "        else:\n",
    "            if len(x[item]) == 1: #check if list only contains one item\n",
    "                str1 = ''.join(x[item]) #Make empty strign and add (stuff)\n",
    "    #            print(str1)\n",
    "                s = pd.Series({item: str1}) #select only the first item of list with one item\n",
    "                target = target.append(s) # and append to target series\n",
    "            else:\n",
    "                if len(x[item]) > 1: #check if list contains more than one item\n",
    "                    s = pd.Series({item:x[item]})\n",
    "                    target = target.append(s) # and append to target series\n",
    "df = pd.Series.to_frame(target).T # make dataframe from series\n",
    "df = df.loc[:, df.columns.str.contains(\"|\".join(cols))] # filter the dataframe with the hand-picked columns from 'cols'\n",
    "df.at[0,\"partyisocode\"] = list(set(df.at[0,\"partyisocode\"])) #remove duplicates from \"partyisocode\"\n",
    "df.insert(loc=0, column='file', value=filename) #insert new column with filename\n",
    "data = data.append(df)\n",
    "data = data.reset_index(drop=True) # rebuild indexes\n",
    "data\n",
    "\n",
    "#str1 = ''.join(meta_dict['name'])"
   ]
  }
 ],
 "metadata": {
  "kernelspec": {
   "display_name": "Python 3",
   "language": "python",
   "name": "python3"
  },
  "language_info": {
   "codemirror_mode": {
    "name": "ipython",
    "version": 3
   },
   "file_extension": ".py",
   "mimetype": "text/x-python",
   "name": "python",
   "nbconvert_exporter": "python",
   "pygments_lexer": "ipython3",
   "version": "3.6.6"
  }
 },
 "nbformat": 4,
 "nbformat_minor": 2
}
